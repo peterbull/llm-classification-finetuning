{
 "cells": [
  {
   "cell_type": "code",
   "execution_count": 2,
   "metadata": {},
   "outputs": [],
   "source": [
    "import kagglehub\n",
    "\n",
    "# Replace with path to directory containing your model files\n",
    "LOCAL_MODEL_DIR = '../models/final'\n",
    "\n",
    "MODEL_SLUG = 'bert-chatbot-preference'\n",
    "VARIATION_SLUG = 'base-uncased-4epochs'"
   ]
  },
  {
   "cell_type": "code",
   "execution_count": 3,
   "metadata": {},
   "outputs": [
    {
     "name": "stdout",
     "output_type": "stream",
     "text": [
      "Uploading Model https://www.kaggle.com/models/peterbull/bert-chatbot-preference/transformers/base-uncased-4epochs ...\n",
      "Model 'bert-chatbot-preference' does not exist or access is forbidden for user 'peterbull'. Creating or handling Model...\n",
      "Model 'bert-chatbot-preference' Created.\n",
      "Starting upload for file ../models/final/model.safetensors\n"
     ]
    },
    {
     "name": "stderr",
     "output_type": "stream",
     "text": [
      "Uploading: 100%|██████████| 438M/438M [01:25<00:00, 5.10MB/s] "
     ]
    },
    {
     "name": "stdout",
     "output_type": "stream",
     "text": [
      "Upload successful: ../models/final/model.safetensors (418MB)\n",
      "Starting upload for file ../models/final/tokenizer_config.json\n"
     ]
    },
    {
     "name": "stderr",
     "output_type": "stream",
     "text": [
      "\n",
      "Uploading: 100%|██████████| 1.22k/1.22k [00:00<00:00, 3.08kB/s]"
     ]
    },
    {
     "name": "stdout",
     "output_type": "stream",
     "text": [
      "Upload successful: ../models/final/tokenizer_config.json (1KB)\n",
      "Starting upload for file ../models/final/special_tokens_map.json\n"
     ]
    },
    {
     "name": "stderr",
     "output_type": "stream",
     "text": [
      "\n",
      "Uploading: 100%|██████████| 125/125 [00:00<00:00, 292B/s]"
     ]
    },
    {
     "name": "stdout",
     "output_type": "stream",
     "text": [
      "Upload successful: ../models/final/special_tokens_map.json (125B)\n",
      "Starting upload for file ../models/final/config.json\n"
     ]
    },
    {
     "name": "stderr",
     "output_type": "stream",
     "text": [
      "\n",
      "Uploading: 100%|██████████| 841/841 [00:00<00:00, 2.07kB/s]"
     ]
    },
    {
     "name": "stdout",
     "output_type": "stream",
     "text": [
      "Upload successful: ../models/final/config.json (841B)\n",
      "Starting upload for file ../models/final/tokenizer.json\n"
     ]
    },
    {
     "name": "stderr",
     "output_type": "stream",
     "text": [
      "\n",
      "Uploading: 100%|██████████| 712k/712k [00:00<00:00, 1.41MB/s]"
     ]
    },
    {
     "name": "stdout",
     "output_type": "stream",
     "text": [
      "Upload successful: ../models/final/tokenizer.json (695KB)\n",
      "Starting upload for file ../models/final/training_args.bin\n"
     ]
    },
    {
     "name": "stderr",
     "output_type": "stream",
     "text": [
      "\n",
      "Uploading: 100%|██████████| 5.30k/5.30k [00:00<00:00, 15.9kB/s]"
     ]
    },
    {
     "name": "stdout",
     "output_type": "stream",
     "text": [
      "Upload successful: ../models/final/training_args.bin (5KB)\n",
      "Starting upload for file ../models/final/vocab.txt\n"
     ]
    },
    {
     "name": "stderr",
     "output_type": "stream",
     "text": [
      "\n",
      "Uploading: 100%|██████████| 232k/232k [00:00<00:00, 574kB/s] "
     ]
    },
    {
     "name": "stdout",
     "output_type": "stream",
     "text": [
      "Upload successful: ../models/final/vocab.txt (226KB)\n"
     ]
    },
    {
     "name": "stderr",
     "output_type": "stream",
     "text": [
      "\n"
     ]
    },
    {
     "name": "stdout",
     "output_type": "stream",
     "text": [
      "Your model instance has been created.\n",
      "Files are being processed...\n",
      "See at: https://www.kaggle.com/models/peterbull/bert-chatbot-preference/transformers/base-uncased-4epochs\n"
     ]
    }
   ],
   "source": [
    "\n",
    "kagglehub.model_upload(\n",
    "    handle=f\"peterbull/{MODEL_SLUG}/transformers/{VARIATION_SLUG}\",\n",
    "    local_model_dir=LOCAL_MODEL_DIR,\n",
    "    version_notes='BERT-base-uncased fine-tuned for 4 epochs on Chatbot Arena preference prediction - LLM Classification Competition 2025-07-13'\n",
    ")\n"
   ]
  },
  {
   "cell_type": "code",
   "execution_count": null,
   "metadata": {},
   "outputs": [],
   "source": []
  }
 ],
 "metadata": {
  "kernelspec": {
   "display_name": "llm-classification-finetuning",
   "language": "python",
   "name": "python3"
  },
  "language_info": {
   "codemirror_mode": {
    "name": "ipython",
    "version": 3
   },
   "file_extension": ".py",
   "mimetype": "text/x-python",
   "name": "python",
   "nbconvert_exporter": "python",
   "pygments_lexer": "ipython3",
   "version": "3.12.5"
  }
 },
 "nbformat": 4,
 "nbformat_minor": 2
}
