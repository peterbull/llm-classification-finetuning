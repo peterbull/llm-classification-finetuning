{
 "cells": [
  {
   "cell_type": "markdown",
   "metadata": {},
   "source": [
    "# Llm Classification Finetuning EDA\n"
   ]
  },
  {
   "cell_type": "code",
   "execution_count": null,
   "metadata": {},
   "outputs": [],
   "source": [
    "import json\n",
    "import fastkaggle\n",
    "import os\n",
    "import shutil\n",
    "import polars as pl\n",
    "import torch\n",
    "import numpy as np\n",
    "from pathlib import Path\n",
    "\n",
    "from rich import print as rprint\n",
    "from rich.markdown import Markdown\n",
    "from IPython.display import display"
   ]
  },
  {
   "cell_type": "code",
   "execution_count": null,
   "metadata": {},
   "outputs": [
    {
     "name": "stdout",
     "output_type": "stream",
     "text": [
      "Warning: Your Kaggle API key is readable by other users on this system! To fix this, you can run 'chmod 600 /Users/peterbull/.kaggle/kaggle.json'\n"
     ]
    }
   ],
   "source": [
    "api = fastkaggle.import_kaggle()"
   ]
  },
  {
   "cell_type": "code",
   "execution_count": null,
   "metadata": {},
   "outputs": [
    {
     "ename": "Error",
     "evalue": "Destination path 'data/llm-classification-finetuning/llm-classification-finetuning' already exists",
     "output_type": "error",
     "traceback": [
      "\u001b[31m---------------------------------------------------------------------------\u001b[39m",
      "\u001b[31mError\u001b[39m                                     Traceback (most recent call last)",
      "\u001b[36mCell\u001b[39m\u001b[36m \u001b[39m\u001b[32mIn[4]\u001b[39m\u001b[32m, line 6\u001b[39m\n\u001b[32m      4\u001b[39m datapath = data_base_path / comp_name\n\u001b[32m      5\u001b[39m \u001b[38;5;28;01mif\u001b[39;00m os.path.exists(install_path):\n\u001b[32m----> \u001b[39m\u001b[32m6\u001b[39m     \u001b[43mshutil\u001b[49m\u001b[43m.\u001b[49m\u001b[43mmove\u001b[49m\u001b[43m(\u001b[49m\u001b[43minstall_path\u001b[49m\u001b[43m,\u001b[49m\u001b[43m \u001b[49m\u001b[43mdata_base_path\u001b[49m\u001b[43m \u001b[49m\u001b[43m/\u001b[49m\u001b[43m \u001b[49m\u001b[43mcomp_name\u001b[49m\u001b[43m)\u001b[49m\n",
      "\u001b[36mFile \u001b[39m\u001b[32m~/.local/share/uv/python/cpython-3.13.1-macos-aarch64-none/lib/python3.13/shutil.py:854\u001b[39m, in \u001b[36mmove\u001b[39m\u001b[34m(src, dst, copy_function)\u001b[39m\n\u001b[32m    851\u001b[39m     real_dst = os.path.join(dst, _basename(src))\n\u001b[32m    853\u001b[39m     \u001b[38;5;28;01mif\u001b[39;00m os.path.exists(real_dst):\n\u001b[32m--> \u001b[39m\u001b[32m854\u001b[39m         \u001b[38;5;28;01mraise\u001b[39;00m Error(\u001b[33m\"\u001b[39m\u001b[33mDestination path \u001b[39m\u001b[33m'\u001b[39m\u001b[38;5;132;01m%s\u001b[39;00m\u001b[33m'\u001b[39m\u001b[33m already exists\u001b[39m\u001b[33m\"\u001b[39m % real_dst)\n\u001b[32m    855\u001b[39m \u001b[38;5;28;01mtry\u001b[39;00m:\n\u001b[32m    856\u001b[39m     os.rename(src, real_dst)\n",
      "\u001b[31mError\u001b[39m: Destination path 'data/llm-classification-finetuning/llm-classification-finetuning' already exists"
     ]
    }
   ],
   "source": [
    "data_base_path = Path(\"./data\")\n",
    "comp_name = \"llm-classification-finetuning\"\n",
    "install_path = fastkaggle.setup_comp(comp_name)\n",
    "datapath = data_base_path / comp_name\n",
    "if os.path.exists(install_path):\n",
    "    shutil.move(install_path, data_base_path / comp_name)"
   ]
  },
  {
   "cell_type": "markdown",
   "metadata": {},
   "source": [
    "# Dataset Description\n",
    "\n",
    "The competition dataset consists of user interactions from the ChatBot Arena. In each user interaction a judge provides one or more prompts to two different large language models, and then indicates which of the models gave the more satisfactory response. The goal of the competition is to predict the preferences of the judges and determine the likelihood that a given prompt/response pair is selected as the winner.\n",
    "\n",
    "Please note that this is a Code Competition. When your submission is scored, this example test data will be replaced with the full test set. There are 55K rows in the training data, and you can expect roughly 25,000 rows in the test set.\n",
    "\n",
    "## Files\n",
    "\n",
    "### train.csv\n",
    "\n",
    "- **id** - A unique identifier for the row.\n",
    "- **model\\_[a/b]** - The identity of model\\_[a/b]. Included in train.csv but not test.csv.\n",
    "- **prompt** - The prompt that was given as an input (to both models).\n",
    "- **response\\_[a/b]** - The response from model\\_[a/b] to the given prompt.\n",
    "- **winner*model*[a/b/tie]** - Binary columns marking the judge's selection. The ground truth target column.\n",
    "\n",
    "### test.csv\n",
    "\n",
    "- **id**\n",
    "- **prompt**\n",
    "- **response\\_[a/b]**\n",
    "\n",
    "### sample_submission.csv\n",
    "\n",
    "A submission file in the correct format.\n",
    "\n",
    "- **id**\n",
    "- **winner*model*[a/b/tie]** - This is what is predicted from the test set.\n"
   ]
  },
  {
   "cell_type": "code",
   "execution_count": null,
   "metadata": {},
   "outputs": [
    {
     "data": {
      "text/html": [
       "<div><style>\n",
       ".dataframe > thead > tr,\n",
       ".dataframe > tbody > tr {\n",
       "  text-align: right;\n",
       "  white-space: pre-wrap;\n",
       "}\n",
       "</style>\n",
       "<small>shape: (3, 4)</small><table border=\"1\" class=\"dataframe\"><thead><tr><th>id</th><th>winner_model_a</th><th>winner_model_b</th><th>winner_tie</th></tr><tr><td>i64</td><td>f64</td><td>f64</td><td>f64</td></tr></thead><tbody><tr><td>136060</td><td>0.333333</td><td>0.333333</td><td>0.333333</td></tr><tr><td>211333</td><td>0.333333</td><td>0.333333</td><td>0.333333</td></tr><tr><td>1233961</td><td>0.333333</td><td>0.333333</td><td>0.333333</td></tr></tbody></table></div>"
      ],
      "text/plain": [
       "shape: (3, 4)\n",
       "┌─────────┬────────────────┬────────────────┬────────────┐\n",
       "│ id      ┆ winner_model_a ┆ winner_model_b ┆ winner_tie │\n",
       "│ ---     ┆ ---            ┆ ---            ┆ ---        │\n",
       "│ i64     ┆ f64            ┆ f64            ┆ f64        │\n",
       "╞═════════╪════════════════╪════════════════╪════════════╡\n",
       "│ 136060  ┆ 0.333333       ┆ 0.333333       ┆ 0.333333   │\n",
       "│ 211333  ┆ 0.333333       ┆ 0.333333       ┆ 0.333333   │\n",
       "│ 1233961 ┆ 0.333333       ┆ 0.333333       ┆ 0.333333   │\n",
       "└─────────┴────────────────┴────────────────┴────────────┘"
      ]
     },
     "execution_count": null,
     "metadata": {},
     "output_type": "execute_result"
    }
   ],
   "source": [
    "df_sample = pl.read_csv(datapath / \"sample_submission.csv\")\n",
    "df_sample.head()"
   ]
  },
  {
   "cell_type": "code",
   "execution_count": null,
   "metadata": {},
   "outputs": [
    {
     "data": {
      "text/plain": [
       "polars.config.Config"
      ]
     },
     "execution_count": null,
     "metadata": {},
     "output_type": "execute_result"
    }
   ],
   "source": [
    "pl.Config.set_tbl_width_chars(300)\n",
    "pl.Config.set_fmt_str_lengths(300)"
   ]
  },
  {
   "cell_type": "code",
   "execution_count": null,
   "metadata": {},
   "outputs": [
    {
     "data": {
      "text/html": [
       "<div><style>\n",
       ".dataframe > thead > tr,\n",
       ".dataframe > tbody > tr {\n",
       "  text-align: right;\n",
       "  white-space: pre-wrap;\n",
       "}\n",
       "</style>\n",
       "<small>shape: (5, 9)</small><table border=\"1\" class=\"dataframe\"><thead><tr><th>id</th><th>model_a</th><th>model_b</th><th>prompt</th><th>response_a</th><th>response_b</th><th>winner_model_a</th><th>winner_model_b</th><th>winner_tie</th></tr><tr><td>i64</td><td>str</td><td>str</td><td>str</td><td>str</td><td>str</td><td>i64</td><td>i64</td><td>i64</td></tr></thead><tbody><tr><td>30192</td><td>&quot;gpt-4-1106-preview&quot;</td><td>&quot;gpt-4-0613&quot;</td><td>&quot;[&quot;Is it morally right to try to have a certain percentage of females on managerial positions?&quot;,&quot;OK, does pineapple belong on a pizza? Relax and give me fun answer.&quot;]&quot;</td><td>&quot;[&quot;The question of whether it is morally right to aim for a certain percentage of females in managerial positions is a complex ethical issue that involves considerations of fairness, equality, diversity, and discrimination.\\n\\nHere are some arguments in favor of and against such policies:\\n\\n**Argume…</td><td>&quot;[&quot;As an AI, I don&#x27;t have personal beliefs or opinions. However, I can tell you that the question of gender quotas in managerial positions is a complex one and positions can vary. Advocates argue that such measures can help correct historical imbalances, promote diversity, and may lead to better deci…</td><td>1</td><td>0</td><td>0</td></tr><tr><td>53567</td><td>&quot;koala-13b&quot;</td><td>&quot;gpt-4-0613&quot;</td><td>&quot;[&quot;What is the difference between marriage license and marriage certificate?&quot;,&quot;How can I get both of them as quick as possible in California &quot;,&quot;What is the minimal time to get them? 1 day or 10 days?&quot;]&quot;</td><td>&quot;[&quot;A marriage license is a legal document that allows a couple to get married. It is issued by a government agency, such as a county clerk&#x27;s office or a state government, and is valid for a certain period of time, usually one year. After the marriage has taken place, the couple must obtain a marriage…</td><td>&quot;[&quot;A marriage license and a marriage certificate are two different legal documents that have separate purposes.\\n\\n1. Marriage License: A marriage license is a legal document that gives a couple permission to get married. It&#x27;s usually obtained from local government or court officials before the weddi…</td><td>0</td><td>1</td><td>0</td></tr><tr><td>65089</td><td>&quot;gpt-3.5-turbo-0613&quot;</td><td>&quot;mistral-medium&quot;</td><td>&quot;[&quot;explain function calling. how would you call a function?&quot;]&quot;</td><td>&quot;[&quot;Function calling is the process of invoking or executing a function in a programming language. To call a function, you need to use the function&#x27;s name followed by parentheses \\&quot;()\\&quot;. Within the parentheses, you can pass arguments if the function requires any.\\n\\nHere is an example of how to call a…</td><td>&quot;[&quot;Function calling is the process of invoking a function in a program. A function is a block of code that performs a specific task and can be reused multiple times in a program. Functions help to organize and modularize code, making it more readable and maintainable.\\n\\nTo call a function, you simpl…</td><td>0</td><td>0</td><td>1</td></tr><tr><td>96401</td><td>&quot;llama-2-13b-chat&quot;</td><td>&quot;mistral-7b-instruct&quot;</td><td>&quot;[&quot;How can I create a test set for a very rare category? I want to build a classifier.&quot;]&quot;</td><td>&quot;[&quot;Creating a test set for a very rare category can be challenging, as it may not be possible to collect a sufficient number of examples for the rare category. However, there are several strategies you can use to create a test set for a rare category:\\n\\n1. Use synthetic data: If the rare category is…</td><td>&quot;[&quot;When building a classifier for a very rare category, creating a test set can be challenging due to the limited amount of data available. Here are some steps you can take to create a test set for a rare category:\\n\\n1. Gather as much data as possible: The more data you have, the easier it will be t…</td><td>1</td><td>0</td><td>0</td></tr><tr><td>198779</td><td>&quot;koala-13b&quot;</td><td>&quot;gpt-3.5-turbo-0314&quot;</td><td>&quot;[&quot;What is the best way to travel from Tel-Aviv to Jerusalem? Car? Bus? Plane?&quot;]&quot;</td><td>&quot;[&quot;The best way to travel from Tel Aviv to Jerusalem depends on your personal preference and the availability of transportation options. All the options you have mentioned are valid options, but here are some details to help you make your decision:\\n\\n*&nbsp;&nbsp;&nbsp;By car: Traveling by car is the quickest way …</td><td>&quot;[&quot;The best way to travel from Tel-Aviv to Jerusalem depends on your personal preferences and circumstances. \\n\\nIf you have a car and enjoy driving, then driving from Tel-Aviv to Jerusalem is an option. However, parking in Jerusalem can be challenging and expensive.\\n\\nIf you prefer to use public tr…</td><td>0</td><td>1</td><td>0</td></tr></tbody></table></div>"
      ],
      "text/plain": [
       "shape: (5, 9)\n",
       "┌────────┬────────────────────┬─────────────────────┬─────────────────────────────────────────────────────────────────────────────────────────────────┬───┬─────────────────────────────────────────────────────────────────────────────────────────────────┬────────────────┬────────────────┬────────────┐\n",
       "│ id     ┆ model_a            ┆ model_b             ┆ prompt                                                                                          ┆ … ┆ response_b                                                                                      ┆ winner_model_a ┆ winner_model_b ┆ winner_tie │\n",
       "│ ---    ┆ ---                ┆ ---                 ┆ ---                                                                                             ┆   ┆ ---                                                                                             ┆ ---            ┆ ---            ┆ ---        │\n",
       "│ i64    ┆ str                ┆ str                 ┆ str                                                                                             ┆   ┆ str                                                                                             ┆ i64            ┆ i64            ┆ i64        │\n",
       "╞════════╪════════════════════╪═════════════════════╪═════════════════════════════════════════════════════════════════════════════════════════════════╪═══╪═════════════════════════════════════════════════════════════════════════════════════════════════╪════════════════╪════════════════╪════════════╡\n",
       "│ 30192  ┆ gpt-4-1106-preview ┆ gpt-4-0613          ┆ [\"Is it morally right to try to have a certain percentage of females on managerial              ┆ … ┆ [\"As an AI, I don't have personal beliefs or opinions. However, I can tell you that the         ┆ 1              ┆ 0              ┆ 0          │\n",
       "│        ┆                    ┆                     ┆ positions?\",\"OK, does pineapple belong on a pizza? Relax and give me fun answer.\"]              ┆   ┆ question of gender quotas in managerial positions is a complex one and positions can vary.      ┆                ┆                ┆            │\n",
       "│        ┆                    ┆                     ┆                                                                                                 ┆   ┆ Advocates argue that such measures can help correct historical imbalances, promote diversity,   ┆                ┆                ┆            │\n",
       "│        ┆                    ┆                     ┆                                                                                                 ┆   ┆ and may lead to better deci…                                                                    ┆                ┆                ┆            │\n",
       "│ 53567  ┆ koala-13b          ┆ gpt-4-0613          ┆ [\"What is the difference between marriage license and marriage certificate?\",\"How can I get     ┆ … ┆ [\"A marriage license and a marriage certificate are two different legal documents that have     ┆ 0              ┆ 1              ┆ 0          │\n",
       "│        ┆                    ┆                     ┆ both of them as quick as possible in California \",\"What is the minimal time to get them? 1 day  ┆   ┆ separate purposes.\\n\\n1. Marriage License: A marriage license is a legal document that gives a  ┆                ┆                ┆            │\n",
       "│        ┆                    ┆                     ┆ or 10 days?\"]                                                                                   ┆   ┆ couple permission to get married. It's usually obtained from local government or court          ┆                ┆                ┆            │\n",
       "│        ┆                    ┆                     ┆                                                                                                 ┆   ┆ officials before the weddi…                                                                     ┆                ┆                ┆            │\n",
       "│ 65089  ┆ gpt-3.5-turbo-0613 ┆ mistral-medium      ┆ [\"explain function calling. how would you call a function?\"]                                    ┆ … ┆ [\"Function calling is the process of invoking a function in a program. A function is a block of ┆ 0              ┆ 0              ┆ 1          │\n",
       "│        ┆                    ┆                     ┆                                                                                                 ┆   ┆ code that performs a specific task and can be reused multiple times in a program. Functions     ┆                ┆                ┆            │\n",
       "│        ┆                    ┆                     ┆                                                                                                 ┆   ┆ help to organize and modularize code, making it more readable and maintainable.\\n\\nTo call a    ┆                ┆                ┆            │\n",
       "│        ┆                    ┆                     ┆                                                                                                 ┆   ┆ function, you simpl…                                                                            ┆                ┆                ┆            │\n",
       "│ 96401  ┆ llama-2-13b-chat   ┆ mistral-7b-instruct ┆ [\"How can I create a test set for a very rare category? I want to build a classifier.\"]         ┆ … ┆ [\"When building a classifier for a very rare category, creating a test set can be challenging   ┆ 1              ┆ 0              ┆ 0          │\n",
       "│        ┆                    ┆                     ┆                                                                                                 ┆   ┆ due to the limited amount of data available. Here are some steps you can take to create a test  ┆                ┆                ┆            │\n",
       "│        ┆                    ┆                     ┆                                                                                                 ┆   ┆ set for a rare category:\\n\\n1. Gather as much data as possible: The more data you have, the     ┆                ┆                ┆            │\n",
       "│        ┆                    ┆                     ┆                                                                                                 ┆   ┆ easier it will be t…                                                                            ┆                ┆                ┆            │\n",
       "│ 198779 ┆ koala-13b          ┆ gpt-3.5-turbo-0314  ┆ [\"What is the best way to travel from Tel-Aviv to Jerusalem? Car? Bus? Plane?\"]                 ┆ … ┆ [\"The best way to travel from Tel-Aviv to Jerusalem depends on your personal preferences and    ┆ 0              ┆ 1              ┆ 0          │\n",
       "│        ┆                    ┆                     ┆                                                                                                 ┆   ┆ circumstances. \\n\\nIf you have a car and enjoy driving, then driving from Tel-Aviv to Jerusalem ┆                ┆                ┆            │\n",
       "│        ┆                    ┆                     ┆                                                                                                 ┆   ┆ is an option. However, parking in Jerusalem can be challenging and expensive.\\n\\nIf you prefer  ┆                ┆                ┆            │\n",
       "│        ┆                    ┆                     ┆                                                                                                 ┆   ┆ to use public tr…                                                                               ┆                ┆                ┆            │\n",
       "└────────┴────────────────────┴─────────────────────┴─────────────────────────────────────────────────────────────────────────────────────────────────┴───┴─────────────────────────────────────────────────────────────────────────────────────────────────┴────────────────┴────────────────┴────────────┘"
      ]
     },
     "execution_count": null,
     "metadata": {},
     "output_type": "execute_result"
    }
   ],
   "source": [
    "df_train = pl.read_csv(datapath / \"train.csv\")\n",
    "df_test = pl.read_csv(datapath / \"test.csv\")\n",
    "df_train.head()"
   ]
  },
  {
   "cell_type": "code",
   "execution_count": null,
   "metadata": {},
   "outputs": [],
   "source": [
    "def fmt_llm(idx: int, col_name: str, df: pl.DataFrame = df_train):\n",
    "    for idx, res in enumerate(json.loads(df[idx, col_name])):\n",
    "        rprint(f\"[bold bright_green]######### Response {idx} #########[/bold bright_green]\")\n",
    "        display(Markdown(res))"
   ]
  },
  {
   "cell_type": "markdown",
   "metadata": {},
   "source": [
    "Each row is a set of conversations by user, which will at some point allow exploration of some conflicting user preferences in responses to similar questions(maybe)\n"
   ]
  },
  {
   "cell_type": "code",
   "execution_count": null,
   "metadata": {},
   "outputs": [
    {
     "data": {
      "text/html": [
       "<pre style=\"white-space:pre;overflow-x:auto;line-height:normal;font-family:Menlo,'DejaVu Sans Mono',consolas,'Courier New',monospace\"><span style=\"color: #00ff00; text-decoration-color: #00ff00; font-weight: bold\">######### Response </span><span style=\"color: #00ff00; text-decoration-color: #00ff00; font-weight: bold\">0</span><span style=\"color: #00ff00; text-decoration-color: #00ff00; font-weight: bold\"> #########</span>\n",
       "</pre>\n"
      ],
      "text/plain": [
       "\u001b[1;92m######### Response \u001b[0m\u001b[1;92m0\u001b[0m\u001b[1;92m #########\u001b[0m\n"
      ]
     },
     "metadata": {},
     "output_type": "display_data"
    },
    {
     "data": {
      "text/html": [
       "<pre style=\"white-space:pre;overflow-x:auto;line-height:normal;font-family:Menlo,'DejaVu Sans Mono',consolas,'Courier New',monospace\">The question of whether it is morally right to aim for a certain percentage of females in managerial positions is a\n",
       "complex ethical issue that involves considerations of fairness, equality, diversity, and discrimination.           \n",
       "\n",
       "Here are some arguments in favor of and against such policies:                                                     \n",
       "\n",
       "<span style=\"font-weight: bold\">Arguments in favor:</span>                                                                                                \n",
       "\n",
       "<span style=\"color: #808000; text-decoration-color: #808000; font-weight: bold\"> 1 </span><span style=\"font-weight: bold\">Correcting Historical Inequities:</span> Women have historically been underrepresented in leadership roles due to      \n",
       "<span style=\"color: #808000; text-decoration-color: #808000; font-weight: bold\">   </span>various cultural, institutional, and social barriers. Aiming for a specific percentage can be seen as a         \n",
       "<span style=\"color: #808000; text-decoration-color: #808000; font-weight: bold\">   </span>corrective measure to address past and ongoing discrimination.                                                  \n",
       "<span style=\"color: #808000; text-decoration-color: #808000; font-weight: bold\"> 2 </span><span style=\"font-weight: bold\">Promoting Diversity:</span> Diverse leadership teams can enhance decision-making and represent a broader range of      \n",
       "<span style=\"color: #808000; text-decoration-color: #808000; font-weight: bold\">   </span>perspectives. This can lead to better outcomes for organizations and society as a whole.                        \n",
       "<span style=\"color: #808000; text-decoration-color: #808000; font-weight: bold\"> 3 </span><span style=\"font-weight: bold\">Equality of Opportunity:</span> Setting targets for female representation in management can help ensure that women have\n",
       "<span style=\"color: #808000; text-decoration-color: #808000; font-weight: bold\">   </span>equal opportunities to advance in their careers.                                                                \n",
       "<span style=\"color: #808000; text-decoration-color: #808000; font-weight: bold\"> 4 </span><span style=\"font-weight: bold\">Role Modeling:</span> Increased visibility of female leaders can inspire and encourage other women and girls to pursue \n",
       "<span style=\"color: #808000; text-decoration-color: #808000; font-weight: bold\">   </span>leadership roles.                                                                                               \n",
       "\n",
       "<span style=\"font-weight: bold\">Arguments against:</span>                                                                                                 \n",
       "\n",
       "<span style=\"color: #808000; text-decoration-color: #808000; font-weight: bold\"> 1 </span><span style=\"font-weight: bold\">Reverse Discrimination:</span> Setting a quota for female representation might lead to the perception or reality of    \n",
       "<span style=\"color: #808000; text-decoration-color: #808000; font-weight: bold\">   </span>reverse discrimination, where men might be overlooked for positions despite being qualified, simply to meet the \n",
       "<span style=\"color: #808000; text-decoration-color: #808000; font-weight: bold\">   </span>gender target.                                                                                                  \n",
       "<span style=\"color: #808000; text-decoration-color: #808000; font-weight: bold\"> 2 </span><span style=\"font-weight: bold\">Meritocracy Concerns:</span> Critics argue that employment and promotion should be based solely on merit and           \n",
       "<span style=\"color: #808000; text-decoration-color: #808000; font-weight: bold\">   </span>qualifications, not gender. They fear that quotas could compromise the quality of leadership if less qualified  \n",
       "<span style=\"color: #808000; text-decoration-color: #808000; font-weight: bold\">   </span>individuals are promoted to meet gender targets.                                                                \n",
       "<span style=\"color: #808000; text-decoration-color: #808000; font-weight: bold\"> 3 </span><span style=\"font-weight: bold\">Tokenism:</span> There is a risk that women appointed to meet quotas might be seen as \"tokens,\" undermining their      \n",
       "<span style=\"color: #808000; text-decoration-color: #808000; font-weight: bold\">   </span>legitimacy and potentially leading to resentment among colleagues.                                              \n",
       "<span style=\"color: #808000; text-decoration-color: #808000; font-weight: bold\"> 4 </span><span style=\"font-weight: bold\">Oversimplification of Diversity:</span> Focusing only on gender might overlook other important aspects of diversity,   \n",
       "<span style=\"color: #808000; text-decoration-color: #808000; font-weight: bold\">   </span>such as race, ethnicity, socioeconomic background, or sexual orientation.                                       \n",
       "\n",
       "Ultimately, the morality of aiming for a certain percentage of females in managerial positions depends on one's    \n",
       "ethical framework and the context in which such policies are implemented. Proponents of gender diversity targets   \n",
       "often argue that these measures are necessary as a transitional mechanism to create a level playing field, while   \n",
       "opponents may argue for a \"color-blind\" or \"gender-blind\" approach to hiring and promotions.                       \n",
       "\n",
       "Organizations and societies must carefully consider the implications of these strategies and strive to implement   \n",
       "policies that promote fairness and equality while minimizing negative consequences. It is also important to address\n",
       "the root causes of gender inequality, such as unconscious bias, work-life balance challenges, and lack of          \n",
       "supportive policies, to create an environment where everyone has the opportunity to succeed based on their         \n",
       "capabilities and contributions.                                                                                    \n",
       "</pre>\n"
      ],
      "text/plain": [
       "The question of whether it is morally right to aim for a certain percentage of females in managerial positions is a\n",
       "complex ethical issue that involves considerations of fairness, equality, diversity, and discrimination.           \n",
       "\n",
       "Here are some arguments in favor of and against such policies:                                                     \n",
       "\n",
       "\u001b[1mArguments in favor:\u001b[0m                                                                                                \n",
       "\n",
       "\u001b[1;33m 1 \u001b[0m\u001b[1mCorrecting Historical Inequities:\u001b[0m Women have historically been underrepresented in leadership roles due to      \n",
       "\u001b[1;33m   \u001b[0mvarious cultural, institutional, and social barriers. Aiming for a specific percentage can be seen as a         \n",
       "\u001b[1;33m   \u001b[0mcorrective measure to address past and ongoing discrimination.                                                  \n",
       "\u001b[1;33m 2 \u001b[0m\u001b[1mPromoting Diversity:\u001b[0m Diverse leadership teams can enhance decision-making and represent a broader range of      \n",
       "\u001b[1;33m   \u001b[0mperspectives. This can lead to better outcomes for organizations and society as a whole.                        \n",
       "\u001b[1;33m 3 \u001b[0m\u001b[1mEquality of Opportunity:\u001b[0m Setting targets for female representation in management can help ensure that women have\n",
       "\u001b[1;33m   \u001b[0mequal opportunities to advance in their careers.                                                                \n",
       "\u001b[1;33m 4 \u001b[0m\u001b[1mRole Modeling:\u001b[0m Increased visibility of female leaders can inspire and encourage other women and girls to pursue \n",
       "\u001b[1;33m   \u001b[0mleadership roles.                                                                                               \n",
       "\n",
       "\u001b[1mArguments against:\u001b[0m                                                                                                 \n",
       "\n",
       "\u001b[1;33m 1 \u001b[0m\u001b[1mReverse Discrimination:\u001b[0m Setting a quota for female representation might lead to the perception or reality of    \n",
       "\u001b[1;33m   \u001b[0mreverse discrimination, where men might be overlooked for positions despite being qualified, simply to meet the \n",
       "\u001b[1;33m   \u001b[0mgender target.                                                                                                  \n",
       "\u001b[1;33m 2 \u001b[0m\u001b[1mMeritocracy Concerns:\u001b[0m Critics argue that employment and promotion should be based solely on merit and           \n",
       "\u001b[1;33m   \u001b[0mqualifications, not gender. They fear that quotas could compromise the quality of leadership if less qualified  \n",
       "\u001b[1;33m   \u001b[0mindividuals are promoted to meet gender targets.                                                                \n",
       "\u001b[1;33m 3 \u001b[0m\u001b[1mTokenism:\u001b[0m There is a risk that women appointed to meet quotas might be seen as \"tokens,\" undermining their      \n",
       "\u001b[1;33m   \u001b[0mlegitimacy and potentially leading to resentment among colleagues.                                              \n",
       "\u001b[1;33m 4 \u001b[0m\u001b[1mOversimplification of Diversity:\u001b[0m Focusing only on gender might overlook other important aspects of diversity,   \n",
       "\u001b[1;33m   \u001b[0msuch as race, ethnicity, socioeconomic background, or sexual orientation.                                       \n",
       "\n",
       "Ultimately, the morality of aiming for a certain percentage of females in managerial positions depends on one's    \n",
       "ethical framework and the context in which such policies are implemented. Proponents of gender diversity targets   \n",
       "often argue that these measures are necessary as a transitional mechanism to create a level playing field, while   \n",
       "opponents may argue for a \"color-blind\" or \"gender-blind\" approach to hiring and promotions.                       \n",
       "\n",
       "Organizations and societies must carefully consider the implications of these strategies and strive to implement   \n",
       "policies that promote fairness and equality while minimizing negative consequences. It is also important to address\n",
       "the root causes of gender inequality, such as unconscious bias, work-life balance challenges, and lack of          \n",
       "supportive policies, to create an environment where everyone has the opportunity to succeed based on their         \n",
       "capabilities and contributions.                                                                                    \n"
      ]
     },
     "metadata": {},
     "output_type": "display_data"
    },
    {
     "data": {
      "text/html": [
       "<pre style=\"white-space:pre;overflow-x:auto;line-height:normal;font-family:Menlo,'DejaVu Sans Mono',consolas,'Courier New',monospace\"><span style=\"color: #00ff00; text-decoration-color: #00ff00; font-weight: bold\">######### Response </span><span style=\"color: #00ff00; text-decoration-color: #00ff00; font-weight: bold\">1</span><span style=\"color: #00ff00; text-decoration-color: #00ff00; font-weight: bold\"> #########</span>\n",
       "</pre>\n"
      ],
      "text/plain": [
       "\u001b[1;92m######### Response \u001b[0m\u001b[1;92m1\u001b[0m\u001b[1;92m #########\u001b[0m\n"
      ]
     },
     "metadata": {},
     "output_type": "display_data"
    },
    {
     "data": {
      "text/html": [
       "<pre style=\"white-space:pre;overflow-x:auto;line-height:normal;font-family:Menlo,'DejaVu Sans Mono',consolas,'Courier New',monospace\">Ah, the age-old culinary conundrum that has divided nations and dinner tables: does pineapple belong on a pizza?   \n",
       "The tropical twist of pineapple on pizza, known as Hawaiian pizza, is a hotly debated topic where taste buds battle\n",
       "and pizza purists protest.                                                                                         \n",
       "\n",
       "Let's slice into the debate with a zest of fun:                                                                    \n",
       "\n",
       "<span style=\"font-weight: bold\">Team Pineapple:</span> \"Absolutely, yes! Pineapple on pizza is like a beach party in your mouth. The sweet juiciness of   \n",
       "pineapple chunks frolicking with savory ham or bacon creates a flavor wave that surfs across the cheesy ocean of   \n",
       "deliciousness. It's the Mardi Gras of pizzas, where sweet meets savory in a jubilant jamboree!\"                    \n",
       "\n",
       "<span style=\"font-weight: bold\">Team No-Pineapple:</span> \"No way, not in a million pizzas! Pineapple is a fruit that should be sunbathing on a tropical  \n",
       "fruit platter, not freeloading on a sacred slice of pizza. The thought of warm, melty cheese conspiring with       \n",
       "pineapple's sugary mischief is enough to make Italian ancestors turn in their tomato patches. Keep the pineapple in\n",
       "the fruit salad where it belongs!\"                                                                                 \n",
       "\n",
       "At the end of the day, whether pineapple belongs on pizza is a matter of personal taste. Some say it's a match made\n",
       "in heaven, others say it's a culinary crime. But let's face it, in the world of pizza toppings, where you can find \n",
       "everything from anchovies to zucchini, there's room for a little pineapple pizzazz. So, if your taste buds crave   \n",
       "that sweet and tangy twist, go ahead and let your pineapple flag fly atop that glorious cheese-covered dough. Bon  \n",
       "appétit, or as they say in pineapple paradise, \"Aloha-ppetite!\" 🍍🍕                                               \n",
       "</pre>\n"
      ],
      "text/plain": [
       "Ah, the age-old culinary conundrum that has divided nations and dinner tables: does pineapple belong on a pizza?   \n",
       "The tropical twist of pineapple on pizza, known as Hawaiian pizza, is a hotly debated topic where taste buds battle\n",
       "and pizza purists protest.                                                                                         \n",
       "\n",
       "Let's slice into the debate with a zest of fun:                                                                    \n",
       "\n",
       "\u001b[1mTeam Pineapple:\u001b[0m \"Absolutely, yes! Pineapple on pizza is like a beach party in your mouth. The sweet juiciness of   \n",
       "pineapple chunks frolicking with savory ham or bacon creates a flavor wave that surfs across the cheesy ocean of   \n",
       "deliciousness. It's the Mardi Gras of pizzas, where sweet meets savory in a jubilant jamboree!\"                    \n",
       "\n",
       "\u001b[1mTeam No-Pineapple:\u001b[0m \"No way, not in a million pizzas! Pineapple is a fruit that should be sunbathing on a tropical  \n",
       "fruit platter, not freeloading on a sacred slice of pizza. The thought of warm, melty cheese conspiring with       \n",
       "pineapple's sugary mischief is enough to make Italian ancestors turn in their tomato patches. Keep the pineapple in\n",
       "the fruit salad where it belongs!\"                                                                                 \n",
       "\n",
       "At the end of the day, whether pineapple belongs on pizza is a matter of personal taste. Some say it's a match made\n",
       "in heaven, others say it's a culinary crime. But let's face it, in the world of pizza toppings, where you can find \n",
       "everything from anchovies to zucchini, there's room for a little pineapple pizzazz. So, if your taste buds crave   \n",
       "that sweet and tangy twist, go ahead and let your pineapple flag fly atop that glorious cheese-covered dough. Bon  \n",
       "appétit, or as they say in pineapple paradise, \"Aloha-ppetite!\" 🍍🍕                                               \n"
      ]
     },
     "metadata": {},
     "output_type": "display_data"
    }
   ],
   "source": [
    "fmt_llm(0, \"response_a\")"
   ]
  },
  {
   "cell_type": "code",
   "execution_count": null,
   "metadata": {},
   "outputs": [],
   "source": []
  }
 ],
 "metadata": {
  "kernelspec": {
   "display_name": "python3",
   "language": "python",
   "name": "python3"
  }
 },
 "nbformat": 4,
 "nbformat_minor": 2
}
